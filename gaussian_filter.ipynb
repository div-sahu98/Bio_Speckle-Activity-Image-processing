{
 "cells": [
  {
   "cell_type": "code",
   "execution_count": null,
   "metadata": {},
   "outputs": [],
   "source": [
    "from skimage import io, img_as_float\n",
    "from skimage.filters import unsharp_mask,gaussian\n",
    "from skimage import *\n",
    "import numpy as np\n",
    "import os\n",
    "import random\n",
    "import matplotlib.pyplot as plt\n",
    "import cv2\n",
    "from matplotlib import pyplot as plt"
   ]
  },
  {
   "cell_type": "code",
   "execution_count": null,
   "metadata": {},
   "outputs": [],
   "source": [
    "DIRECTORY=r'C:\\Users\\Divyansh\\Desktop'\n",
    "#DIRECTORY_2=r'C:\\Users\\Divyansh\\Desktop\\yest_img'\n",
    "CATEGORIES=['DataCoffeeSeed']"
   ]
  },
  {
   "cell_type": "code",
   "execution_count": null,
   "metadata": {},
   "outputs": [],
   "source": [
    "count=1\n",
    "for category in CATEGORIES:\n",
    "    folder=os.path.join(DIRECTORY,category)\n",
    "    for img in os.listdir(folder):\n",
    "            img_path =os.path.join(folder,img)\n",
    "            img1 = img_as_float(io.imread(img_path, as_gray=True))\n",
    "            gaussian_img = gaussian(img1, sigma=0.8, mode='constant', cval=0.0)\n",
    "            count=count+1\n",
    "            img_path_2 =os.path.join(folder,img)\n",
    "            io.imsave(r'C:\\Users\\Divyansh\\Desktop\\yest_img\\\\'+str(count)+\".jpeg\",gaussian_img)\n",
    "\n",
    "print(count)"
   ]
  }
 ],
 "metadata": {
  "kernelspec": {
   "display_name": "Python 3",
   "language": "python",
   "name": "python3"
  },
  "language_info": {
   "codemirror_mode": {
    "name": "ipython",
    "version": 3
   },
   "file_extension": ".py",
   "mimetype": "text/x-python",
   "name": "python",
   "nbconvert_exporter": "python",
   "pygments_lexer": "ipython3",
   "version": "3.7.6"
  }
 },
 "nbformat": 4,
 "nbformat_minor": 4
}
